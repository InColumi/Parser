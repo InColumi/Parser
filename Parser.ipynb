{
 "cells": [
  {
   "cell_type": "code",
   "execution_count": 1,
   "id": "4682d569",
   "metadata": {},
   "outputs": [],
   "source": [
    "import urllib.request\n",
    "from bs4 import BeautifulSoup\n",
    "import os\n",
    "from joblib import Parallel, delayed\n",
    "import multiprocessing\n",
    "from time import time\n",
    "import requests \n",
    "import urllib.request"
   ]
  },
  {
   "cell_type": "code",
   "execution_count": 2,
   "id": "d181dea8",
   "metadata": {},
   "outputs": [],
   "source": [
    "def get_text_html(link):\n",
    "    return BeautifulSoup(requests.get(url=link).text, 'html.parser')"
   ]
  },
  {
   "cell_type": "code",
   "execution_count": 3,
   "id": "55c40cf6",
   "metadata": {},
   "outputs": [],
   "source": [
    "url = \"https://www.gutenberg.org/browse/authors/a\""
   ]
  },
  {
   "cell_type": "code",
   "execution_count": 4,
   "id": "763061be",
   "metadata": {},
   "outputs": [],
   "source": [
    "page = get_text_html(url)"
   ]
  },
  {
   "cell_type": "code",
   "execution_count": 5,
   "id": "0164b10b",
   "metadata": {},
   "outputs": [],
   "source": [
    "def get_pages_by_author(data):\n",
    "    pages = {}\n",
    "    name_author = ''\n",
    "    for item in data:\n",
    "        tag_name = item.name\n",
    "        if tag_name == 'h2':\n",
    "            name_author = item.text.replace(' ¶','')\n",
    "#             print(name_author)\n",
    "        elif tag_name == 'ul':\n",
    "            name_book = item.text\n",
    "            links_book = []\n",
    "            for i in item.findChildren('li', recurdive=False):\n",
    "                if 'English' in i.text:\n",
    "                    links_on_book = i.find_all('a')\n",
    "                    for link in links_on_book:\n",
    "                        if 'ebooks' in link['href']:\n",
    "                            links_book.append(f\"https://www.gutenberg.org{link['href']}\")\n",
    "            if len(links_book) > 0:\n",
    "                pages[name_author] = links_book\n",
    "    return pages"
   ]
  },
  {
   "cell_type": "code",
   "execution_count": 53,
   "id": "9d3f8cce",
   "metadata": {},
   "outputs": [],
   "source": [
    "def get_direct_reference(link):\n",
    "    result = 'empty'\n",
    "    page = get_text_html(link)\n",
    "    data = page.find(\"table\", {\"class\": \"files\"}).findChildren('tr')\n",
    "    for i in data:\n",
    "        attributes = i.attrs\n",
    "        if 'about' in attributes:\n",
    "            if 'txt' in i['about']:\n",
    "                result = i['about']\n",
    "    return result"
   ]
  },
  {
   "cell_type": "code",
   "execution_count": 54,
   "id": "cde77a9a",
   "metadata": {},
   "outputs": [],
   "source": [
    "def download_by_link(link):\n",
    "    urllib.request.urlretrieve(keu_for_download, dir_name + '/' + link[key])"
   ]
  },
  {
   "cell_type": "code",
   "execution_count": 55,
   "id": "772ae533",
   "metadata": {},
   "outputs": [],
   "source": [
    "pages = get_pages_by_author(page.find(\"div\", {\"class\": \"pgdbbyauthor\"}).find('div').children)"
   ]
  },
  {
   "cell_type": "code",
   "execution_count": 56,
   "id": "48b87c9a",
   "metadata": {},
   "outputs": [],
   "source": [
    "def get_linc_from_dict(pages):\n",
    "    count = 1\n",
    "    for key in pages.keys():\n",
    "        a_pool = multiprocessing.Pool()\n",
    "        print('Key: ', pages[key])\n",
    "        res = a_pool.map(get_direct_reference, pages[key])\n",
    "        print(res)\n",
    "        if count <= 7:\n",
    "            count += 1\n",
    "        else:\n",
    "            break\n",
    "#         for page_book in pages[key]:\n",
    "#             get_direct_reference(page_book)"
   ]
  },
  {
   "cell_type": "code",
   "execution_count": 57,
   "id": "d33d4823",
   "metadata": {},
   "outputs": [
    {
     "name": "stdout",
     "output_type": "stream",
     "text": [
      "Key:  ['https://www.gutenberg.org/ebooks/29666']\n",
      "['https://www.gutenberg.org/ebooks/29666.txt.utf-8']\n",
      "Key:  ['https://www.gutenberg.org/ebooks/61217']\n",
      "['https://www.gutenberg.org/ebooks/61217.txt.utf-8']\n",
      "Key:  ['https://www.gutenberg.org/ebooks/26348']\n",
      "['https://www.gutenberg.org/ebooks/26348.txt.utf-8']\n",
      "Key:  ['https://www.gutenberg.org/ebooks/11861', 'https://www.gutenberg.org/ebooks/25753']\n",
      "['https://www.gutenberg.org/ebooks/11861.txt.utf-8', 'https://www.gutenberg.org/ebooks/25753.txt.utf-8']\n",
      "Key:  ['https://www.gutenberg.org/ebooks/10338']\n",
      "['https://www.gutenberg.org/ebooks/10338.txt.utf-8']\n",
      "Key:  ['https://www.gutenberg.org/ebooks/16791']\n",
      "['https://www.gutenberg.org/ebooks/16791.txt.utf-8']\n",
      "Key:  ['https://www.gutenberg.org/ebooks/67167', 'https://www.gutenberg.org/ebooks/62187']\n",
      "['https://www.gutenberg.org/ebooks/67167.txt.utf-8', 'https://www.gutenberg.org/files/62187/62187-0.txt']\n",
      "Key:  ['https://www.gutenberg.org/ebooks/23037']\n",
      "['https://www.gutenberg.org/ebooks/23037.txt.utf-8']\n"
     ]
    }
   ],
   "source": [
    "get_linc_from_dict(pages)"
   ]
  },
  {
   "cell_type": "code",
   "execution_count": 58,
   "id": "ab8bf567",
   "metadata": {},
   "outputs": [
    {
     "name": "stdout",
     "output_type": "stream",
     "text": [
      "https://www.gutenberg.org/files/62187/62187-0.txt\n"
     ]
    }
   ],
   "source": [
    "print(get_direct_reference('https://www.gutenberg.org/ebooks/62187'))"
   ]
  },
  {
   "cell_type": "code",
   "execution_count": null,
   "id": "b7e826af",
   "metadata": {},
   "outputs": [],
   "source": []
  },
  {
   "cell_type": "code",
   "execution_count": null,
   "id": "6059f004",
   "metadata": {},
   "outputs": [],
   "source": []
  },
  {
   "cell_type": "code",
   "execution_count": null,
   "id": "3f7c4b57",
   "metadata": {},
   "outputs": [],
   "source": []
  },
  {
   "cell_type": "code",
   "execution_count": 7,
   "id": "3ac0cd89",
   "metadata": {},
   "outputs": [],
   "source": [
    "def get_list_link(page):\n",
    "    links = []\n",
    "    pgdbbyauthor = page.find(\"div\", {\"class\": \"pgdbbyauthor\"})\n",
    "    for element in pgdbbyauthor.children:\n",
    "        if element.name == 'h2':\n",
    "            pass\n",
    "        if element.name == 'ul':\n",
    "            for link in element.find_all('a'):\n",
    "                link_key = link['href']\n",
    "                if 'ebooks' in link_key:\n",
    "                    links.append({'https://www.gutenberg.org' + link_key: link.text})\n",
    "    return links"
   ]
  },
  {
   "cell_type": "code",
   "execution_count": 10,
   "id": "4fa9195c",
   "metadata": {},
   "outputs": [
    {
     "data": {
      "text/plain": [
       "[]"
      ]
     },
     "execution_count": 10,
     "metadata": {},
     "output_type": "execute_result"
    }
   ],
   "source": [
    "links"
   ]
  },
  {
   "cell_type": "code",
   "execution_count": 11,
   "id": "483258c3",
   "metadata": {},
   "outputs": [],
   "source": [
    "def create_file(text, path):\n",
    "    if os.path.isfile(path) == False:\n",
    "        with open(path + '.txt', 'w') as file: \n",
    "            file.write(text) "
   ]
  },
  {
   "cell_type": "code",
   "execution_count": 12,
   "id": "a1305360",
   "metadata": {},
   "outputs": [],
   "source": [
    "def create_dir(name):\n",
    "    if os.path.exists(name) == False:\n",
    "        os.mkdir(name)"
   ]
  },
  {
   "cell_type": "code",
   "execution_count": 13,
   "id": "22bc1253",
   "metadata": {},
   "outputs": [],
   "source": [
    "def get_link_for_download(url):\n",
    "    content = get_content(url)\n",
    "    elements = BeautifulSoup(content, 'html.parser').find('table').find_all('tr')\n",
    "    for element in elements:\n",
    "        for attribute in element.attrs:\n",
    "            if attribute == 'about':\n",
    "                if '.txt' in element['about']:\n",
    "                    return element['about']"
   ]
  },
  {
   "cell_type": "code",
   "execution_count": 14,
   "id": "157777be",
   "metadata": {},
   "outputs": [],
   "source": [
    "def create_file_by_linc(link, dir_name):\n",
    "    key = list(link.keys())[0]\n",
    "    keu_for_download = get_link_for_download(key)\n",
    "    r = requests.get(keu_for_download, stream=True)\n",
    "    if r.status_code == 200:\n",
    "        with open(dir_name + '/' + link[key], 'wb') as f:\n",
    "            for chunk in r:\n",
    "                f.write(chunk)\n",
    "    #urllib.request.urlretrieve(keu_for_download, dir_name + '/' + link[key])"
   ]
  },
  {
   "cell_type": "code",
   "execution_count": 15,
   "id": "c06f88ab",
   "metadata": {},
   "outputs": [],
   "source": [
    "def download_files(links):\n",
    "    dir_name = 'A'\n",
    "    create_dir(dir_name)\n",
    "    for link in links:\n",
    "        create_file_by_linc(link, dir_name)\n",
    "    #ThreadPool(9).imap_unordered(create_file_by_linc, links)"
   ]
  },
  {
   "cell_type": "code",
   "execution_count": 16,
   "id": "7baa0b0f",
   "metadata": {
    "scrolled": false
   },
   "outputs": [],
   "source": [
    "download_files(links)"
   ]
  },
  {
   "cell_type": "raw",
   "id": "668916f1",
   "metadata": {},
   "source": [
    "start = time()\n",
    "ThreadPool(9).imap_unordered(create_file_by_linc, links)\n",
    "print(f\"Time: {time() - start}\")"
   ]
  },
  {
   "cell_type": "raw",
   "id": "f016d7fe",
   "metadata": {},
   "source": [
    "\n",
    "send=requests.post('http://bdseo.ru') #делаем запрос\n",
    "file = open('D://bdseo.html','w') #создаем файл для записи результатов\n",
    "file.write(send.text) #записываем результат\n",
    "file.close() #закрываем файл"
   ]
  },
  {
   "cell_type": "raw",
   "id": "a859b422",
   "metadata": {},
   "source": [
    "ThreadPool(9).imap_unordered(url_response, urls)"
   ]
  }
 ],
 "metadata": {
  "kernelspec": {
   "display_name": "Python 3 (ipykernel)",
   "language": "python",
   "name": "python3"
  },
  "language_info": {
   "codemirror_mode": {
    "name": "ipython",
    "version": 3
   },
   "file_extension": ".py",
   "mimetype": "text/x-python",
   "name": "python",
   "nbconvert_exporter": "python",
   "pygments_lexer": "ipython3",
   "version": "3.8.10"
  }
 },
 "nbformat": 4,
 "nbformat_minor": 5
}
