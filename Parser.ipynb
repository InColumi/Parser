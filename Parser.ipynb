{
 "cells": [
  {
   "cell_type": "code",
   "execution_count": 1,
   "id": "4682d569",
   "metadata": {},
   "outputs": [],
   "source": [
    "import urllib.request\n",
    "from bs4 import BeautifulSoup\n",
    "import os\n",
    "from joblib import Parallel, delayed\n",
    "from multiprocessing import Pool\n",
    "from multiprocessing import Process\n",
    "import multiprocessing\n",
    "import time\n",
    "import requests \n",
    "import urllib.request\n",
    "import json\n",
    "import csv  \n",
    "from tqdm import tqdm\n",
    "import PyPDF2 \n",
    "\n",
    "from multiprocessing import Pool, freeze_support, RLock\n",
    "from multiprocessing import current_process\n",
    "from p_tqdm import p_map, p_umap, p_imap, p_uimap\n",
    "from clint.textui import progress"
   ]
  },
  {
   "cell_type": "code",
   "execution_count": 2,
   "id": "d181dea8",
   "metadata": {},
   "outputs": [],
   "source": [
    "def get_text_html(link):\n",
    "    return BeautifulSoup(requests.get(url=link).text, 'html.parser')"
   ]
  },
  {
   "cell_type": "code",
   "execution_count": 3,
   "id": "a1305360",
   "metadata": {},
   "outputs": [],
   "source": [
    "def create_dir(path):\n",
    "    if os.path.exists(path) == False:\n",
    "        os.mkdir(path)"
   ]
  },
  {
   "cell_type": "code",
   "execution_count": 4,
   "id": "0164b10b",
   "metadata": {},
   "outputs": [],
   "source": [
    "def get_pages_by_author(data):\n",
    "    pages = {}\n",
    "    name_author = ''\n",
    "    for item in data:\n",
    "        tag_name = item.name\n",
    "        if tag_name == 'h2':\n",
    "            name_author = item.text.replace(' ¶','')\n",
    "#             print(name_author)\n",
    "        elif tag_name == 'ul':\n",
    "            name_book = item.text\n",
    "            links_book = []\n",
    "            for i in item.findChildren('li', recurdive=False):\n",
    "                if 'English' in i.text:\n",
    "                    links_on_book = i.find_all('a')\n",
    "                    for link in links_on_book:\n",
    "                        if 'ebooks' in link['href']:\n",
    "                            links_book.append({f\"https://www.gutenberg.org{link['href']}\": link.text})\n",
    "            if len(links_book) > 0:\n",
    "                pages[name_author] = links_book\n",
    "    return pages"
   ]
  },
  {
   "cell_type": "code",
   "execution_count": 5,
   "id": "9d3f8cce",
   "metadata": {},
   "outputs": [],
   "source": [
    "def get_direct_reference(link):\n",
    "    result = 'empty'\n",
    "    page = get_text_html(link)\n",
    "    data = page.find_all(\"td\", {\"class\": \"noscreen\"})\n",
    "    for i in data:\n",
    "        inner_text = i.text\n",
    "        if '.txt' in inner_text:\n",
    "            result = inner_text\n",
    "        elif '.pdf' in inner_text:\n",
    "            result = inner_text\n",
    "    return result"
   ]
  },
  {
   "cell_type": "code",
   "execution_count": 6,
   "id": "cde77a9a",
   "metadata": {},
   "outputs": [],
   "source": [
    "def download_by_link(link, path):\n",
    "    if '.txt' in link:\n",
    "        urllib.request.urlretrieve(link, path)\n",
    "    elif '.pdf' in link:\n",
    "        print('Working with pdf: ', link)\n",
    "        temp_path = f\"{path} temp.pdf\"\n",
    "        urllib.request.urlretrieve(link, temp_path)\n",
    "        \n",
    "        pdffileobj=open(temp_path,'rb')\n",
    "        pdfReader = PyPDF2.PdfFileReader(pdffileobj)\n",
    "        count_pages = pdfReader.numPages\n",
    "        file1=open(f\"{path}\",\"a\")\n",
    "        for i in range(count_pages):\n",
    "            file1.write(pdfReader.getPage(i).extractText())\n",
    "        file1.close()\n",
    "        os.remove(temp_path)"
   ]
  },
  {
   "cell_type": "code",
   "execution_count": 7,
   "id": "d2b008a3",
   "metadata": {},
   "outputs": [],
   "source": [
    "def download_by_item(item):\n",
    "    path = item[0]\n",
    "    name_author = item[1][0]\n",
    "    create_dir(f\"{path}/{name_author}\")\n",
    "    list_books = item[1][1]\n",
    "    for page_info in list_books:\n",
    "        for link in page_info.keys():\n",
    "            direct_reference = get_direct_reference(link)\n",
    "            download_by_link(direct_reference, f\"{path}/{name_author}/{page_info[link][:250]}.txt\")"
   ]
  },
  {
   "cell_type": "code",
   "execution_count": 8,
   "id": "850c64c6",
   "metadata": {},
   "outputs": [],
   "source": [
    "def get_pairs_link_path(dict_info, dir_name):\n",
    "    count = 1\n",
    "    pairs_dir_name_book_info = []\n",
    "    dict_info_items = list(dict_info.items())\n",
    "    \n",
    "    for item in dict_info_items:\n",
    "#         if count > 1:\n",
    "#             break\n",
    "        pairs_dir_name_book_info.append((dir_name, item))\n",
    "#        print(count)\n",
    "        count += 1\n",
    "    return pairs_dir_name_book_info"
   ]
  },
  {
   "cell_type": "code",
   "execution_count": 9,
   "id": "b93fa9fd",
   "metadata": {},
   "outputs": [],
   "source": [
    "def download_files(link_path):\n",
    "    download_by_link(link_path[0], link_path[1])"
   ]
  },
  {
   "cell_type": "code",
   "execution_count": 10,
   "id": "6af2f8c3",
   "metadata": {},
   "outputs": [],
   "source": [
    "def save_html_page(link, path):\n",
    "    page = get_text_html(link)\n",
    "    create_dir(f\"{path}\")\n",
    "    items = link.split('/')\n",
    "    file=open(f\"{path}/{items[len(items) - 1]}.html\",\"a\")\n",
    "    file.write(str(page))\n",
    "    file.close()"
   ]
  },
  {
   "cell_type": "code",
   "execution_count": 79,
   "id": "a2711eb1",
   "metadata": {},
   "outputs": [],
   "source": [
    "def save_html_pages(letter_author, name_author, path, books_info):\n",
    "    create_dir(f\"{path}/{letter_author}\")\n",
    "    new_path = f\"{path}/{letter_author}/{name_author}\"\n",
    "    \n",
    "    create_dir(new_path)\n",
    "    for book_info in books_info:\n",
    "        item = list(book_info.items())\n",
    "        link = item[0][0]\n",
    "        name_book = item[0][1]\n",
    "        save_html_page(link, new_path)"
   ]
  },
  {
   "cell_type": "code",
   "execution_count": 80,
   "id": "9513aaa8",
   "metadata": {},
   "outputs": [],
   "source": [
    "def get_info_authors_by_letter(letter):\n",
    "    url = f\"https://www.gutenberg.org/browse/authors/{letter}\"\n",
    "    page = get_text_html(url)\n",
    "    \n",
    "#     return get_pages_by_author(page.find(\"div\", {\"class\": \"pgdbbyauthor\"}).find('div').children)\n",
    "    return get_pages_by_author(page.find(\"div\", {\"class\": \"pgdbbyauthor\"}).children)"
   ]
  },
  {
   "cell_type": "code",
   "execution_count": 81,
   "id": "aabea2ab",
   "metadata": {},
   "outputs": [],
   "source": [
    "def save_html(letter, info_authors):\n",
    "    for name_author, i in zip(info_authors, tqdm(range(len(info_authors)))):\n",
    "        save_html_pages(letter, name_author, f\"..\", info_authors[name_author])"
   ]
  },
  {
   "cell_type": "code",
   "execution_count": 82,
   "id": "9d1f18b2",
   "metadata": {},
   "outputs": [],
   "source": [
    "def save_html_fast(letter, info_authors, path):\n",
    "    size_pack = 8\n",
    "    size = len(info_authors)\n",
    "    count_pack = size // size_pack\n",
    "    mod_size = count_pack * size_pack\n",
    "    diff = size - mod_size\n",
    "    keys = list(info_authors.keys())\n",
    "    process_list = []\n",
    "    for i, count_iter in zip(range(count_pack), tqdm(range(count_pack))):\n",
    "        for j in range(size_pack):\n",
    "            key = keys[j + i * size_pack]\n",
    "            process_list.append(Process(target=save_html_pages, args=(letter, key, path, info_authors[key])))\n",
    "        \n",
    "        for t in process_list:\n",
    "            t.start()\n",
    "        \n",
    "        for t in process_list:\n",
    "            t.join()\n",
    "            \n",
    "        for t in process_list:\n",
    "            t.close()\n",
    "        process_list.clear()\n",
    "\n",
    "    print(f\"{diff} - document(s) remained.\")\n",
    "    for i in range(diff):\n",
    "        print(i + 1, 'Name:', keys[i + mod_size])\n",
    "        save_html_pages(letter, keys[i + mod_size], path, info_authors[keys[i + mod_size]])\n",
    "    print(f\"\\nLetter: '{letter}' was download. Count of documents: {size}\")"
   ]
  },
  {
   "cell_type": "code",
   "execution_count": null,
   "id": "19bbf735",
   "metadata": {},
   "outputs": [],
   "source": [
    "def save_all_authors():\n",
    "    alphabet = 'defghijklmnopqrsuvwxyz'\n",
    "    path = '../Test'\n",
    "    create_dir(path)\n",
    "    for letter in alphabet:\n",
    "        save_html_fast(f\"{letter.capitalize()}\", get_info_authors_by_letter(letter), path)"
   ]
  },
  {
   "cell_type": "code",
   "execution_count": null,
   "id": "a233c93a",
   "metadata": {},
   "outputs": [],
   "source": [
    "save_all_authors()"
   ]
  },
  {
   "cell_type": "code",
   "execution_count": null,
   "id": "23ab2f8e",
   "metadata": {},
   "outputs": [],
   "source": []
  },
  {
   "cell_type": "code",
   "execution_count": 152,
   "id": "405dd052",
   "metadata": {},
   "outputs": [],
   "source": [
    "def get_dictionary(tags):\n",
    "    name = ''\n",
    "    result = {}\n",
    "    for tag in tags:\n",
    "        if tag.name == 'th':\n",
    "            name = tag.text\n",
    "        elif tag.name == 'td' and name != '':\n",
    "            result = {name: tag.text.rstrip().lstrip()}\n",
    "    return result"
   ]
  },
  {
   "cell_type": "code",
   "execution_count": null,
   "id": "8e17b57d",
   "metadata": {},
   "outputs": [],
   "source": [
    "isAuthor = 'Author' in dictionary\n",
    "            isTitle = 'Title' in dictionary"
   ]
  },
  {
   "cell_type": "code",
   "execution_count": 220,
   "id": "a5a6091d",
   "metadata": {},
   "outputs": [],
   "source": [
    "def get_list_dictionary(link):\n",
    "    list_info = []\n",
    "    page = get_text_html(link)\n",
    "    data = page.find(\"table\", {\"class\": \"bibrec\"}).find_all('tr')\n",
    "    for tr in data:\n",
    "        dictionary = get_dictionary(tr)\n",
    "#         print(dictionary)\n",
    "        if len(dictionary) > 0:\n",
    "            res = 'Downloads' in dictionary\n",
    "            if res == False:\n",
    "                list_info.append(dictionary)\n",
    "    return list_info"
   ]
  },
  {
   "cell_type": "code",
   "execution_count": 221,
   "id": "34686f6d",
   "metadata": {},
   "outputs": [],
   "source": [
    "def delete_duplicate(list_dict):\n",
    "    keys = []\n",
    "    for item in list_dict:\n",
    "        keys.append(list(item.keys())[0])\n",
    "    unique_keys = set(keys)\n",
    "    new_dict = {}\n",
    "    for key in unique_keys:\n",
    "        new_list = []\n",
    "        for item in list_dict:\n",
    "            #print(key, item, key in item)\n",
    "            if key in item:\n",
    "                new_list.append(item[key])\n",
    "        new_dict[key] = new_list\n",
    "    return new_dict"
   ]
  },
  {
   "cell_type": "code",
   "execution_count": 238,
   "id": "53c1d2ad",
   "metadata": {},
   "outputs": [],
   "source": [
    "def get_raw_data(pages):\n",
    "    print(len(pages))\n",
    "    list_dictionaty_without_duplicate = []\n",
    "    count = 0\n",
    "    for key in pages.keys():\n",
    "        print(count, key)\n",
    "        for item in pages[key]:\n",
    "            list_dictionary = get_list_dictionary(item)\n",
    "            list_dictionaty_without_duplicate.append(delete_duplicate(list_dictionary))\n",
    "        count += 1\n",
    "        if count > 50:\n",
    "            break\n",
    "    return list_dictionaty_without_duplicate"
   ]
  },
  {
   "cell_type": "code",
   "execution_count": null,
   "id": "f61fb348",
   "metadata": {},
   "outputs": [],
   "source": [
    "raw_data = get_raw_data(pages)"
   ]
  },
  {
   "cell_type": "code",
   "execution_count": 241,
   "id": "a1256111",
   "metadata": {},
   "outputs": [],
   "source": []
  },
  {
   "cell_type": "code",
   "execution_count": null,
   "id": "178eb98e",
   "metadata": {},
   "outputs": [],
   "source": []
  },
  {
   "cell_type": "code",
   "execution_count": 244,
   "id": "173319cb",
   "metadata": {},
   "outputs": [],
   "source": [
    "def get_json(dictionary):\n",
    "    return json.dumps(dictionary, indent = 0)"
   ]
  },
  {
   "cell_type": "code",
   "execution_count": 273,
   "id": "46d1cb94",
   "metadata": {},
   "outputs": [],
   "source": [
    "def create_csv(name, data):\n",
    "    header = ['Author', 'Title']\n",
    "    with open(name, 'w', encoding='UTF8') as f:\n",
    "        writer = csv.writer(f)\n",
    "        writer.writerow(header)\n",
    "        for i in data:\n",
    "            if 'Author' in i:\n",
    "                for author in i['Author']:\n",
    "                    for title in i['Title']:\n",
    "                        writer.writerow([author, title])\n",
    "            if 'Contributor' in i:\n",
    "                for contributor in i['Contributor']:\n",
    "                    for title in i['Title']:\n",
    "                        writer.writerow([contributor, title])\n",
    "\n",
    "create_csv('parsed_data.csv', raw_data)"
   ]
  }
 ],
 "metadata": {
  "kernelspec": {
   "display_name": "Python 3 (ipykernel)",
   "language": "python",
   "name": "python3"
  },
  "language_info": {
   "codemirror_mode": {
    "name": "ipython",
    "version": 3
   },
   "file_extension": ".py",
   "mimetype": "text/x-python",
   "name": "python",
   "nbconvert_exporter": "python",
   "pygments_lexer": "ipython3",
   "version": "3.8.10"
  }
 },
 "nbformat": 4,
 "nbformat_minor": 5
}
